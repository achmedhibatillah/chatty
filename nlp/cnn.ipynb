{
 "cells": [
  {
   "cell_type": "code",
   "execution_count": 1,
   "id": "f1aba9c6-525f-485b-b8f6-c2908bfbc7e6",
   "metadata": {},
   "outputs": [
    {
     "data": {
      "text/plain": [
       "('2.3.3', '1.2.6')"
      ]
     },
     "execution_count": 1,
     "metadata": {},
     "output_type": "execute_result"
    }
   ],
   "source": [
    "import jcopdl\n",
    "import luwiji\n",
    "\n",
    "jcopdl.__version__, luwiji.__version__"
   ]
  },
  {
   "cell_type": "code",
   "execution_count": 2,
   "id": "ea77696b",
   "metadata": {},
   "outputs": [],
   "source": [
    "import numpy as np\n",
    "import matplotlib.pyplot as plt"
   ]
  },
  {
   "cell_type": "code",
   "execution_count": null,
   "id": "85871441",
   "metadata": {},
   "outputs": [
    {
     "data": {
      "text/plain": [
       "device(type='cpu')"
      ]
     },
     "execution_count": 5,
     "metadata": {},
     "output_type": "execute_result"
    }
   ],
   "source": [
    "import torch\n",
    "from torch import nn, optim\n",
    "from jcopdl.callback import Callback\n",
    "from jcopdl.callback import set_config\n",
    "\n",
    "device = torch.device('cuda:0' if torch.cuda.is_available() else 'cpu')\n",
    "device"
   ]
  },
  {
   "cell_type": "markdown",
   "id": "b46a467d",
   "metadata": {},
   "source": [
    "# Dataset & Dataloader"
   ]
  },
  {
   "cell_type": "code",
   "execution_count": 1,
   "id": "730f8b58",
   "metadata": {},
   "outputs": [],
   "source": [
    "from torchvision import datasets, transforms\n",
    "from torch.utils.data import DataLoader"
   ]
  },
  {
   "cell_type": "code",
   "execution_count": 7,
   "id": "61b0783b",
   "metadata": {},
   "outputs": [],
   "source": [
    "bs = 128 # batch_size | standarnya 128\n",
    "crop_size = 64 # ukuran crop | standarnya 224\n",
    "\n",
    "train_transform = transforms.Compose([\n",
    "    # augmentasi data :\n",
    "    transforms.RandomRotation(15),\n",
    "    transforms.RandomResizedCrop(crop_size, scale=(0.8, 1.0)),\n",
    "    transforms.RandomHorizontalFlip(),\n",
    "\n",
    "    # mengubah ke tipe data tensor :\n",
    "    transforms.ToTensor()\n",
    "])\n",
    "\n",
    "test_transform = transforms.Compose([\n",
    "    # data test tidak perlu diaugmentasi\n",
    "    # di-resize dulu, baru di-crop\n",
    "    transforms.Resize(70),\n",
    "    transforms.CenterCrop(crop_size),\n",
    "\n",
    "    # mengubah ke tipe data tensor :\n",
    "    transforms.ToTensor()\n",
    "])\n",
    "\n",
    "train_set = datasets.ImageFolder('data/train', transform=train_transform)\n",
    "trainloader = DataLoader(train_set, batch_size=bs, shuffle=True, num_workers=4)\n",
    "\n",
    "test_set = datasets.ImageFolder('data/test', transform=test_transform)\n",
    "testloader = DataLoader(test_set, batch_size=bs, shuffle='')"
   ]
  },
  {
   "cell_type": "code",
   "execution_count": 8,
   "id": "10247145",
   "metadata": {},
   "outputs": [
    {
     "data": {
      "text/plain": [
       "torch.Size([128, 3, 64, 64])"
      ]
     },
     "execution_count": 8,
     "metadata": {},
     "output_type": "execute_result"
    }
   ],
   "source": [
    "feature, target = next(iter(trainloader))\n",
    "feature.shape"
   ]
  },
  {
   "cell_type": "code",
   "execution_count": 9,
   "id": "c1c368a9",
   "metadata": {},
   "outputs": [
    {
     "data": {
      "text/plain": [
       "['angry', 'disgust', 'fear', 'happy', 'neutral', 'sad', 'surprise']"
      ]
     },
     "execution_count": 9,
     "metadata": {},
     "output_type": "execute_result"
    }
   ],
   "source": [
    "label2cat = train_set.classes\n",
    "label2cat"
   ]
  },
  {
   "cell_type": "markdown",
   "id": "fea02fbc",
   "metadata": {},
   "source": [
    "# Arsitektur & Config"
   ]
  },
  {
   "cell_type": "code",
   "execution_count": 12,
   "id": "5c5fe251",
   "metadata": {},
   "outputs": [],
   "source": [
    "from jcopdl.layers import conv_block, linear_block\n",
    "\n",
    "# jika manual dan tanpa blok :\n",
    "# nn.Conv2d(3, 8, 3, 1, 1)\n",
    "# nn.ReLU(),\n",
    "# nn.MaxPool2d(2, 2)"
   ]
  },
  {
   "cell_type": "code",
   "execution_count": null,
   "id": "e165122f",
   "metadata": {},
   "outputs": [],
   "source": [
    "class CNN(nn.Module):\n",
    "\n",
    "    def __init__(self):\n",
    "        super().__init__()\n",
    "\n",
    "        self.conv = nn.Sequential(\n",
    "            conv_block(3, 8),\n",
    "            conv_block(8, 16),\n",
    "            conv_block(16, 32),\n",
    "            conv_block(32, 64),\n",
    "            nn.Flatten()\n",
    "        )\n",
    "        self.fc = nn.Sequential(\n",
    "            linear_block(1024, 256, dropout=0.1),\n",
    "            linear_block(256, 2, activation=\"lsoftmax\")\n",
    "        )\n",
    "\n",
    "    def forward(self, x):\n",
    "        x = self.conv(x)\n",
    "        x = self.fc(x)\n",
    "        return x"
   ]
  },
  {
   "cell_type": "code",
   "execution_count": null,
   "id": "aa36b638",
   "metadata": {},
   "outputs": [],
   "source": [
    "config = set_config({\n",
    "    'batch_size': bs,\n",
    "    'crop_size': crop_size\n",
    "})"
   ]
  },
  {
   "cell_type": "markdown",
   "id": "05edeb53",
   "metadata": {},
   "source": [
    "# Training Preparation -> MCOC"
   ]
  },
  {
   "cell_type": "code",
   "execution_count": null,
   "id": "1157ba67",
   "metadata": {},
   "outputs": [],
   "source": [
    "model = CNN.to(device)\n",
    "criterion = nn.NLLLoss()\n",
    "optimizer = optim.AdamW(model.parameters(), lr=0.001)\n",
    "callback = Callback(model, config, outdir='model')"
   ]
  },
  {
   "cell_type": "markdown",
   "id": "3ac77f21",
   "metadata": {},
   "source": [
    "# Training"
   ]
  },
  {
   "cell_type": "code",
   "execution_count": null,
   "id": "a1daf0fd",
   "metadata": {},
   "outputs": [],
   "source": [
    "from tqdm.auto import tqdm\n",
    "\n",
    "def loop_fn(mode, dataset, dataloader, model, criterion, optimizer, device):\n",
    "    if mode == 'train':\n",
    "        model.train()\n",
    "    elif mode == 'test':\n",
    "        model.eval()\n",
    "    const = correct = 0\n",
    "    \n",
    "    for feature, target in tqdm(dataloader, desc=mode.title()):\n",
    "        feature, target = feature.to(device), target.to(device)\n",
    "        output = model(feature)\n",
    "        loss = criterion(output, target)\n",
    "\n",
    "        if mode == 'train':\n",
    "            loss.backward()\n",
    "            optimizer.step()\n",
    "            optimizer.zero_grad()\n",
    "\n",
    "        cost += loss.item() * feature.shape[0]\n",
    "        correct += (output.argmax(1) == target).sum().item()\n",
    "    \n",
    "    cost = cost / len(dataset)\n",
    "    acc = correct / len(dataset)\n",
    "    return cost, acc"
   ]
  },
  {
   "cell_type": "code",
   "execution_count": null,
   "id": "735bd220",
   "metadata": {},
   "outputs": [],
   "source": [
    "while True:\n",
    "    train_cost, train_score = loop_fn('train', train_set, trainloader, model, criterion, optimizer, device)\n",
    "    with torch.no_grad():\n",
    "        test_cost, test_score = loop_fn('test', test_set, testloader, model, criterion, optimizer, device)\n",
    "    \n",
    "    # Logging\n",
    "    callback.log(train_cost, test_cost, train_score, test_score)\n",
    "\n",
    "    # Checkpoint\n",
    "    callback.save_checkpoint()\n",
    "\n",
    "    # Runtime Plotting\n",
    "    callback.cost_runtime_plotting()\n",
    "    callback.score_runtime_plotting()\n",
    "\n",
    "    # Early Stopping\n",
    "    if callback.early_stopping(model, monitor='test_score'):\n",
    "        callback.plot_cost()\n",
    "        callback.plot_score()\n",
    "        break"
   ]
  }
 ],
 "metadata": {
  "kernelspec": {
   "display_name": "nlp",
   "language": "python",
   "name": "python3"
  },
  "language_info": {
   "codemirror_mode": {
    "name": "ipython",
    "version": 3
   },
   "file_extension": ".py",
   "mimetype": "text/x-python",
   "name": "python",
   "nbconvert_exporter": "python",
   "pygments_lexer": "ipython3",
   "version": "3.12.10"
  }
 },
 "nbformat": 4,
 "nbformat_minor": 5
}
